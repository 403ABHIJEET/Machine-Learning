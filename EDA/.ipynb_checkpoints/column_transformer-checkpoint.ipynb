{
 "cells": [
  {
   "cell_type": "code",
   "execution_count": 1,
   "id": "7783761c",
   "metadata": {},
   "outputs": [],
   "source": [
    "import numpy as np\n",
    "import pandas as pd"
   ]
  },
  {
   "cell_type": "code",
   "execution_count": 2,
   "id": "b9562114",
   "metadata": {},
   "outputs": [],
   "source": [
    "df = pd.read_csv('covid_toy.csv')"
   ]
  },
  {
   "cell_type": "code",
   "execution_count": 3,
   "id": "d501f579",
   "metadata": {},
   "outputs": [
    {
     "data": {
      "text/html": [
       "<div>\n",
       "<style scoped>\n",
       "    .dataframe tbody tr th:only-of-type {\n",
       "        vertical-align: middle;\n",
       "    }\n",
       "\n",
       "    .dataframe tbody tr th {\n",
       "        vertical-align: top;\n",
       "    }\n",
       "\n",
       "    .dataframe thead th {\n",
       "        text-align: right;\n",
       "    }\n",
       "</style>\n",
       "<table border=\"1\" class=\"dataframe\">\n",
       "  <thead>\n",
       "    <tr style=\"text-align: right;\">\n",
       "      <th></th>\n",
       "      <th>age</th>\n",
       "      <th>gender</th>\n",
       "      <th>fever</th>\n",
       "      <th>cough</th>\n",
       "      <th>city</th>\n",
       "      <th>has_covid</th>\n",
       "    </tr>\n",
       "  </thead>\n",
       "  <tbody>\n",
       "    <tr>\n",
       "      <th>69</th>\n",
       "      <td>73</td>\n",
       "      <td>Female</td>\n",
       "      <td>103.0</td>\n",
       "      <td>Mild</td>\n",
       "      <td>Delhi</td>\n",
       "      <td>No</td>\n",
       "    </tr>\n",
       "  </tbody>\n",
       "</table>\n",
       "</div>"
      ],
      "text/plain": [
       "    age  gender  fever cough   city has_covid\n",
       "69   73  Female  103.0  Mild  Delhi        No"
      ]
     },
     "execution_count": 3,
     "metadata": {},
     "output_type": "execute_result"
    }
   ],
   "source": [
    "df.sample()"
   ]
  },
  {
   "cell_type": "code",
   "execution_count": 4,
   "id": "ca6d71d6",
   "metadata": {},
   "outputs": [
    {
     "data": {
      "text/plain": [
       "age           0\n",
       "gender        0\n",
       "fever        10\n",
       "cough         0\n",
       "city          0\n",
       "has_covid     0\n",
       "dtype: int64"
      ]
     },
     "execution_count": 4,
     "metadata": {},
     "output_type": "execute_result"
    }
   ],
   "source": [
    "df.isnull().sum()"
   ]
  },
  {
   "cell_type": "code",
   "execution_count": 5,
   "id": "69f5e1c3",
   "metadata": {},
   "outputs": [],
   "source": [
    "from sklearn.impute import SimpleImputer"
   ]
  },
  {
   "cell_type": "code",
   "execution_count": 6,
   "id": "e86d922d",
   "metadata": {},
   "outputs": [],
   "source": [
    "si = SimpleImputer()"
   ]
  },
  {
   "cell_type": "code",
   "execution_count": 7,
   "id": "354b4265",
   "metadata": {},
   "outputs": [],
   "source": [
    "from sklearn.model_selection import train_test_split"
   ]
  },
  {
   "cell_type": "code",
   "execution_count": 8,
   "id": "eec86d8b",
   "metadata": {},
   "outputs": [],
   "source": [
    "X_train, X_test, y_train, y_test = train_test_split(df.iloc[:, 0:5], df['has_covid'], test_size=0.3)"
   ]
  },
  {
   "cell_type": "code",
   "execution_count": 26,
   "id": "6f559d29",
   "metadata": {},
   "outputs": [
    {
     "data": {
      "text/plain": [
       "(30, 1)"
      ]
     },
     "execution_count": 26,
     "metadata": {},
     "output_type": "execute_result"
    }
   ],
   "source": [
    "X_train_fever = si.fit_transform(X_train[['fever']])\n",
    "X_test_fever = si.fit_transform(X_test[['fever']])"
   ]
  },
  {
   "cell_type": "code",
   "execution_count": 10,
   "id": "4c21b34e",
   "metadata": {},
   "outputs": [],
   "source": [
    "from sklearn.preprocessing import OneHotEncoder"
   ]
  },
  {
   "cell_type": "code",
   "execution_count": 11,
   "id": "9bff63b4",
   "metadata": {},
   "outputs": [],
   "source": [
    "from sklearn.preprocessing import OrdinalEncoder"
   ]
  },
  {
   "cell_type": "code",
   "execution_count": 12,
   "id": "b1372089",
   "metadata": {},
   "outputs": [],
   "source": [
    "oe = OrdinalEncoder(categories=[['Mild', 'Strong']])"
   ]
  },
  {
   "cell_type": "code",
   "execution_count": 25,
   "id": "6da96b56",
   "metadata": {},
   "outputs": [
    {
     "data": {
      "text/plain": [
       "(70, 1)"
      ]
     },
     "execution_count": 25,
     "metadata": {},
     "output_type": "execute_result"
    }
   ],
   "source": [
    "X_train_cough = oe.fit_transform(X_train[['cough']])\n",
    "X_test_cough = oe.fit_transform(X_test[['cough']])"
   ]
  },
  {
   "cell_type": "code",
   "execution_count": 20,
   "id": "c39b12f4",
   "metadata": {},
   "outputs": [],
   "source": [
    "ohe = OneHotEncoder(drop='first', sparse_output=False)"
   ]
  },
  {
   "cell_type": "code",
   "execution_count": 21,
   "id": "24280d6b",
   "metadata": {},
   "outputs": [],
   "source": [
    "X_train_gender_city = ohe.fit_transform(X_train[['gender', 'city']])\n",
    "X_test_gender_city = ohe.fit_transform(X_test[['gender', 'city']])"
   ]
  },
  {
   "cell_type": "code",
   "execution_count": 30,
   "id": "167f2e84",
   "metadata": {},
   "outputs": [],
   "source": [
    "X_train_age = X_train[['age']].values\n",
    "X_test_age = X_test[['age']].values"
   ]
  },
  {
   "cell_type": "code",
   "execution_count": 31,
   "id": "06993ecc",
   "metadata": {},
   "outputs": [],
   "source": [
    "X_train_transformed = np.concatenate((X_train_age, X_train_fever, X_train_gender_city, X_train_cough), axis=1)\n",
    "X_test_transformed = np.concatenate((X_test_age, X_test_fever, X_test_gender_city, X_test_cough), axis=1)"
   ]
  },
  {
   "cell_type": "code",
   "execution_count": 33,
   "id": "5e1f382c",
   "metadata": {},
   "outputs": [
    {
     "data": {
      "text/html": [
       "<div>\n",
       "<style scoped>\n",
       "    .dataframe tbody tr th:only-of-type {\n",
       "        vertical-align: middle;\n",
       "    }\n",
       "\n",
       "    .dataframe tbody tr th {\n",
       "        vertical-align: top;\n",
       "    }\n",
       "\n",
       "    .dataframe thead th {\n",
       "        text-align: right;\n",
       "    }\n",
       "</style>\n",
       "<table border=\"1\" class=\"dataframe\">\n",
       "  <thead>\n",
       "    <tr style=\"text-align: right;\">\n",
       "      <th></th>\n",
       "      <th>age</th>\n",
       "      <th>gender</th>\n",
       "      <th>fever</th>\n",
       "      <th>cough</th>\n",
       "      <th>city</th>\n",
       "      <th>has_covid</th>\n",
       "    </tr>\n",
       "  </thead>\n",
       "  <tbody>\n",
       "    <tr>\n",
       "      <th>23</th>\n",
       "      <td>80</td>\n",
       "      <td>Female</td>\n",
       "      <td>98.0</td>\n",
       "      <td>Mild</td>\n",
       "      <td>Delhi</td>\n",
       "      <td>Yes</td>\n",
       "    </tr>\n",
       "  </tbody>\n",
       "</table>\n",
       "</div>"
      ],
      "text/plain": [
       "    age  gender  fever cough   city has_covid\n",
       "23   80  Female   98.0  Mild  Delhi       Yes"
      ]
     },
     "execution_count": 33,
     "metadata": {},
     "output_type": "execute_result"
    }
   ],
   "source": [
    "df.sample()"
   ]
  },
  {
   "cell_type": "code",
   "execution_count": 32,
   "id": "c4c086e6",
   "metadata": {},
   "outputs": [],
   "source": [
    "from sklearn.compose import ColumnTransformer"
   ]
  },
  {
   "cell_type": "code",
   "execution_count": 35,
   "id": "976f3c78",
   "metadata": {},
   "outputs": [],
   "source": [
    "transformer = ColumnTransformer(transformers=[\n",
    "    ('tnf1', SimpleImputer(), ['fever']),\n",
    "    ('tnf2', OrdinalEncoder(categories=[['Mild', 'Strong']]), ['cough']),\n",
    "    ('tnf3', OneHotEncoder(drop='first', sparse_output=False), ['gender', 'city'])\n",
    "], remainder='passthrough')"
   ]
  },
  {
   "cell_type": "code",
   "execution_count": 36,
   "id": "f6327aa9",
   "metadata": {},
   "outputs": [
    {
     "data": {
      "text/plain": [
       "array([[ 99.       ,   0.       ,   0.       ,   0.       ,   0.       ,\n",
       "          1.       ,  14.       ],\n",
       "       [100.       ,   0.       ,   0.       ,   0.       ,   1.       ,\n",
       "          0.       ,   5.       ],\n",
       "       [100.       ,   1.       ,   0.       ,   0.       ,   1.       ,\n",
       "          0.       ,  11.       ],\n",
       "       [ 98.       ,   0.       ,   1.       ,   0.       ,   1.       ,\n",
       "          0.       ,  24.       ],\n",
       "       [100.       ,   0.       ,   1.       ,   1.       ,   0.       ,\n",
       "          0.       ,  27.       ],\n",
       "       [101.       ,   1.       ,   1.       ,   0.       ,   0.       ,\n",
       "          0.       ,  14.       ],\n",
       "       [102.       ,   1.       ,   0.       ,   0.       ,   0.       ,\n",
       "          0.       ,  82.       ],\n",
       "       [104.       ,   1.       ,   0.       ,   0.       ,   1.       ,\n",
       "          0.       ,  54.       ],\n",
       "       [104.       ,   1.       ,   0.       ,   0.       ,   0.       ,\n",
       "          0.       ,  56.       ],\n",
       "       [102.       ,   0.       ,   1.       ,   0.       ,   1.       ,\n",
       "          0.       ,   5.       ],\n",
       "       [100.5483871,   1.       ,   1.       ,   0.       ,   1.       ,\n",
       "          0.       ,  71.       ],\n",
       "       [102.       ,   0.       ,   1.       ,   0.       ,   0.       ,\n",
       "          1.       ,  74.       ],\n",
       "       [102.       ,   0.       ,   0.       ,   0.       ,   0.       ,\n",
       "          0.       ,  69.       ],\n",
       "       [ 98.       ,   0.       ,   1.       ,   1.       ,   0.       ,\n",
       "          0.       ,  83.       ],\n",
       "       [100.       ,   0.       ,   1.       ,   0.       ,   0.       ,\n",
       "          0.       ,  11.       ],\n",
       "       [102.       ,   0.       ,   1.       ,   0.       ,   0.       ,\n",
       "          0.       ,  64.       ],\n",
       "       [101.       ,   0.       ,   0.       ,   0.       ,   0.       ,\n",
       "          1.       ,  19.       ],\n",
       "       [100.       ,   0.       ,   0.       ,   0.       ,   1.       ,\n",
       "          0.       ,  19.       ],\n",
       "       [104.       ,   0.       ,   1.       ,   0.       ,   0.       ,\n",
       "          1.       ,  44.       ],\n",
       "       [104.       ,   0.       ,   1.       ,   0.       ,   0.       ,\n",
       "          1.       ,  42.       ],\n",
       "       [101.       ,   0.       ,   0.       ,   1.       ,   0.       ,\n",
       "          0.       ,  64.       ],\n",
       "       [103.       ,   0.       ,   0.       ,   0.       ,   1.       ,\n",
       "          0.       ,  48.       ],\n",
       "       [103.       ,   0.       ,   0.       ,   0.       ,   1.       ,\n",
       "          0.       ,  50.       ],\n",
       "       [103.       ,   0.       ,   0.       ,   0.       ,   1.       ,\n",
       "          0.       ,  69.       ],\n",
       "       [101.       ,   1.       ,   0.       ,   0.       ,   1.       ,\n",
       "          0.       ,  51.       ],\n",
       "       [100.5483871,   1.       ,   0.       ,   0.       ,   0.       ,\n",
       "          1.       ,  20.       ],\n",
       "       [104.       ,   0.       ,   1.       ,   0.       ,   0.       ,\n",
       "          0.       ,  25.       ],\n",
       "       [104.       ,   0.       ,   0.       ,   0.       ,   0.       ,\n",
       "          0.       ,  12.       ],\n",
       "       [100.       ,   0.       ,   1.       ,   0.       ,   0.       ,\n",
       "          0.       ,  80.       ],\n",
       "       [100.       ,   1.       ,   0.       ,   0.       ,   1.       ,\n",
       "          0.       ,  13.       ]])"
      ]
     },
     "execution_count": 36,
     "metadata": {},
     "output_type": "execute_result"
    }
   ],
   "source": [
    "transformer.fit_transform(X_train)\n",
    "transformer.transform(X_test)"
   ]
  },
  {
   "cell_type": "code",
   "execution_count": null,
   "id": "9782490e",
   "metadata": {},
   "outputs": [],
   "source": []
  }
 ],
 "metadata": {
  "kernelspec": {
   "display_name": "Python 3 (ipykernel)",
   "language": "python",
   "name": "python3"
  },
  "language_info": {
   "codemirror_mode": {
    "name": "ipython",
    "version": 3
   },
   "file_extension": ".py",
   "mimetype": "text/x-python",
   "name": "python",
   "nbconvert_exporter": "python",
   "pygments_lexer": "ipython3",
   "version": "3.11.5"
  }
 },
 "nbformat": 4,
 "nbformat_minor": 5
}
